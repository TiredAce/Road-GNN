{
 "cells": [
  {
   "cell_type": "code",
   "execution_count": 26,
   "metadata": {},
   "outputs": [],
   "source": [
    "from osm_graph import osm_graph_from_box\n",
    "from sklearn.metrics.pairwise import cosine_similarity\n",
    "from scipy.sparse import csr_matrix, save_npz\n",
    "import argparse\n",
    "import os\n",
    "import numpy as np\n",
    "import negative_free_unsupervised_representation_learning_main as NF_n2n\n",
    "import sklearn.cluster as clu\n",
    "from sklearn.metrics import silhouette_score\n",
    "from sklearn.metrics import calinski_harabasz_score\n",
    "from sklearn.metrics import davies_bouldin_score\n",
    "import torch"
   ]
  },
  {
   "cell_type": "code",
   "execution_count": 3,
   "metadata": {},
   "outputs": [],
   "source": [
    "representations = torch.load('Xian_representations.pt').cpu().detach().numpy()"
   ]
  },
  {
   "cell_type": "code",
   "execution_count": 9,
   "metadata": {},
   "outputs": [
    {
     "name": "stderr",
     "output_type": "stream",
     "text": [
      "d:\\anaconda3\\envs\\torch\\lib\\site-packages\\sklearn\\cluster\\_kmeans.py:1412: FutureWarning: The default value of `n_init` will change from 10 to 'auto' in 1.4. Set the value of `n_init` explicitly to suppress the warning\n",
      "  super()._check_params_vs_input(X, default_n_init=10)\n"
     ]
    }
   ],
   "source": [
    "cluster = clu.KMeans(n_clusters=10)\n",
    "cluster_labels = cluster.fit_predict(representations)\n"
   ]
  },
  {
   "cell_type": "code",
   "execution_count": 10,
   "metadata": {},
   "outputs": [],
   "source": [
    "np.save( 'label.npy', cluster_labels,)"
   ]
  },
  {
   "cell_type": "code",
   "execution_count": 29,
   "metadata": {},
   "outputs": [
    {
     "data": {
      "text/plain": [
       "215"
      ]
     },
     "execution_count": 29,
     "metadata": {},
     "output_type": "execute_result"
    }
   ],
   "source": [
    "list(cluster_labels).count(4)"
   ]
  },
  {
   "cell_type": "code",
   "execution_count": 29,
   "metadata": {},
   "outputs": [],
   "source": [
    "representation_adj = torch.load('representation_adj.pt')\n",
    "representation_sim = torch.load('representation_sim.pt')\n",
    "\n"
   ]
  },
  {
   "cell_type": "code",
   "execution_count": 35,
   "metadata": {},
   "outputs": [],
   "source": [
    "cluster_1 = clu.KMeans(50, n_init=10)\n",
    "\n",
    "cluster_labels_1 = cluster_1.fit_predict(representation_adj)\n",
    "\n",
    "cluster_2 = clu.KMeans(50, n_init=10)\n",
    "\n",
    "cluster_labels_2 = cluster_2.fit_predict(representation_sim)"
   ]
  },
  {
   "cell_type": "code",
   "execution_count": 36,
   "metadata": {},
   "outputs": [
    {
     "name": "stdout",
     "output_type": "stream",
     "text": [
      "Silhouette Score: 0.2984011\n",
      "Silhouette Score: 0.1247554\n"
     ]
    }
   ],
   "source": [
    "silhouette_avg_ = silhouette_score(representation_adj, cluster_labels_1)\n",
    "print(\"Silhouette Score:\", silhouette_avg_)\n",
    "\n",
    "silhouette_avg_ = silhouette_score(representation_sim, cluster_labels_2)\n",
    "print(\"Silhouette Score:\", silhouette_avg_)"
   ]
  },
  {
   "cell_type": "code",
   "execution_count": 37,
   "metadata": {},
   "outputs": [
    {
     "name": "stdout",
     "output_type": "stream",
     "text": [
      "Calinski-Harabasz adj Score: 3615.359620004792\n",
      "Calinski-Harabasz sim Score: 583.717127542556\n"
     ]
    }
   ],
   "source": [
    "\"\"\"\n",
    "Calinski-Harabasz指数是一个计算聚类结果的紧密度和分离度的指标，其值越高表示簇内的\n",
    "方差越大（簇内紧密度高）、簇间的方差越小（簇间分离度高），即聚类效果越好。\n",
    "\"\"\"\n",
    "calinski_harabasz_score_ = calinski_harabasz_score(representation_adj, cluster_labels_1)\n",
    "print(\"Calinski-Harabasz adj Score:\", calinski_harabasz_score_)\n",
    "\n",
    "calinski_harabasz_score_ = calinski_harabasz_score(representation_sim, cluster_labels_2)\n",
    "print(\"Calinski-Harabasz sim Score:\", calinski_harabasz_score_)"
   ]
  }
 ],
 "metadata": {
  "kernelspec": {
   "display_name": "torch",
   "language": "python",
   "name": "python3"
  },
  "language_info": {
   "codemirror_mode": {
    "name": "ipython",
    "version": 3
   },
   "file_extension": ".py",
   "mimetype": "text/x-python",
   "name": "python",
   "nbconvert_exporter": "python",
   "pygments_lexer": "ipython3",
   "version": "3.9.17"
  }
 },
 "nbformat": 4,
 "nbformat_minor": 2
}
